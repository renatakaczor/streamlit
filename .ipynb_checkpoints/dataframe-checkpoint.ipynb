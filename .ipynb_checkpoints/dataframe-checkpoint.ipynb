{
 "cells": [
  {
   "cell_type": "code",
   "execution_count": null,
   "metadata": {},
   "outputs": [],
   "source": [
    "import sys\n",
    "import pandas as pd\n",
    "import altair as alt\n",
    "\n",
    "if sys.version_info[0] < 3:\n",
    "    reload(sys) # noqa: F821 pylint:disable=undefined-variable\n",
    "    sys.setdefaultencoding(\"utf-8\")\n",
    "\n",
    "@st.cache\n",
    "def get_UN_data():\n",
    "    AWS_BUCKET_URL = \"https://streamlit-demo-data.s3-us-west-2.amazonaws.com\"\n",
    "    df = pd.read_csv(AWS_BUCKET_URL + \"/agri.csv.gz\")\n",
    "    return df.set_index(\"Region\")\n",
    "\n",
    "try:\n",
    "    df = get_UN_data()\n",
    "except urllib.error.URLError as e:\n",
    "    st.error(\n",
    "        \"\"\"\n",
    "        **This demo requires internet access.**\n",
    "\n",
    "        Connection error: %s\n",
    "    \"\"\"\n",
    "        % e.reason\n",
    "    )\n",
    "    return\n",
    "\n",
    "countries = st.multiselect(\n",
    "    \"Choose countries\", list(df.index), [\"China\", \"United States of America\"]\n",
    ")\n",
    "if not countries:\n",
    "    st.error(\"Please select at least one country.\")\n",
    "    return\n",
    "\n",
    "data = df.loc[countries]\n",
    "data /= 1000000.0\n",
    "st.write(\"### Gross Agricultural Production ($B)\", data.sort_index())\n",
    "\n",
    "data = data.T.reset_index()\n",
    "data = pd.melt(data, id_vars=[\"index\"]).rename(\n",
    "    columns={\"index\": \"year\", \"value\": \"Gross Agricultural Product ($B)\"}\n",
    ")\n",
    "chart = (\n",
    "    alt.Chart(data)\n",
    "    .mark_area(opacity=0.3)\n",
    "    .encode(\n",
    "        x=\"year:T\",\n",
    "        y=alt.Y(\"Gross Agricultural Product ($B):Q\", stack=None),\n",
    "        color=\"Region:N\",\n",
    "    )\n",
    ")\n",
    "st.altair_chart(chart, use_container_width=True)"
   ]
  }
 ],
 "metadata": {
  "kernelspec": {
   "display_name": "Python 3",
   "language": "python",
   "name": "python3"
  },
  "language_info": {
   "codemirror_mode": {
    "name": "ipython",
    "version": 3
   },
   "file_extension": ".py",
   "mimetype": "text/x-python",
   "name": "python",
   "nbconvert_exporter": "python",
   "pygments_lexer": "ipython3",
   "version": "3.7.4"
  }
 },
 "nbformat": 4,
 "nbformat_minor": 2
}
