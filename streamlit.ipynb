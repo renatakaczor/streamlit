{
 "cells": [
  {
   "cell_type": "code",
   "execution_count": null,
   "metadata": {},
   "outputs": [],
   "source": [
    "import numpy as np\n",
    "\n",
    "# Interactive Streamlit elements, like these sliders, return their value.\n",
    "# This gives you an extremely simple interaction model.\n",
    "iterations = st.sidebar.slider(\"Level of detail\", 2, 20, 10, 1)\n",
    "separation = st.sidebar.slider(\"Separation\", 0.7, 2.0, 0.7885)\n",
    "\n",
    "# Non-interactive elements return a placeholder to their location\n",
    "# in the app. Here we're storing progress_bar to update it later.\n",
    "progress_bar = st.sidebar.progress(0)\n",
    "\n",
    "# These two elements will be filled in later, so we create a placeholder\n",
    "# for them using st.empty()\n",
    "frame_text = st.sidebar.empty()\n",
    "image = st.empty()\n",
    "\n",
    "m, n, s = 960, 640, 400\n",
    "x = np.linspace(-m / s, m / s, num=m).reshape((1, m))\n",
    "y = np.linspace(-n / s, n / s, num=n).reshape((n, 1))\n",
    "\n",
    "for frame_num, a in enumerate(np.linspace(0.0, 4 * np.pi, 100)):\n",
    "    # Here were setting value for these two elements.\n",
    "    progress_bar.progress(frame_num)\n",
    "    frame_text.text(\"Frame %i/100\" % (frame_num + 1))\n",
    "\n",
    "    # Performing some fractal wizardry.\n",
    "    c = separation * np.exp(1j * a)\n",
    "    Z = np.tile(x, (n, 1)) + 1j * np.tile(y, (1, m))\n",
    "    C = np.full((n, m), c)\n",
    "    M = np.full((n, m), True, dtype=bool)\n",
    "    N = np.zeros((n, m))\n",
    "\n",
    "    for i in range(iterations):\n",
    "        Z[M] = Z[M] * Z[M] + C[M]\n",
    "        M[np.abs(Z) > 2] = False\n",
    "        N[M] = i\n",
    "\n",
    "    # Update the image placeholder by calling the image() function on it.\n",
    "    image.image(1.0 - (N / N.max()), use_column_width=True)\n",
    "\n",
    "# We clear elements by calling empty on them.\n",
    "progress_bar.empty()\n",
    "frame_text.empty()\n",
    "\n",
    "# Streamlit widgets automatically run the script from top to bottom. Since\n",
    "# this button is not connected to any other logic, it just causes a plain\n",
    "# rerun.\n",
    "st.button(\"Re-run\")"
   ]
  }
 ],
 "metadata": {
  "kernelspec": {
   "display_name": "Python 3",
   "language": "python",
   "name": "python3"
  },
  "language_info": {
   "codemirror_mode": {
    "name": "ipython",
    "version": 3
   },
   "file_extension": ".py",
   "mimetype": "text/x-python",
   "name": "python",
   "nbconvert_exporter": "python",
   "pygments_lexer": "ipython3",
   "version": "3.7.4"
  }
 },
 "nbformat": 4,
 "nbformat_minor": 2
}
